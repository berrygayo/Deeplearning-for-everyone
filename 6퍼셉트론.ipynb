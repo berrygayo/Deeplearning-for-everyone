{
 "cells": [
  {
   "cell_type": "markdown",
   "metadata": {},
   "source": [
    "# 6 퍼셉트론 \n",
    "\n",
    "입력값을 놓고 활성화 함수에 의해 일정한 수준을 넘으면 참을, 그렇지 않으면 거짓을 내보내는 이 간단한 회로가 하는 일이 뉴런과 같다.\n",
    "뉴런과 뉴런이 서로 새로운 연결을 만들기도 하고 필요에 따라 위치를 바꾸는 것처럼, 여러 층의 퍼셉트론을 서로 연결시키고 복잡하게 조합하여 주어진 입력 값에 대한 판단을 하게 하는 것, 그것이 바로 신경망의 기본 구조입니다. \n",
    "\n",
    "![nn](6.1.jpg)\n",
    "\n",
    "신경망을 이루는 가장 중요한 기본 단위는 퍼셉트론(PERCEPTRON)입니다.\n",
    "퍼셉트론은 입력 값과 활성화 함수를 사용해 출력 값을 다음으로 넘기는 가장 작은 신경망 단위입니다. "
   ]
  },
  {
   "cell_type": "markdown",
   "metadata": {},
   "source": [
    "## 6.1 가중치, 가중합, 바이어스, 활성화 함수 \n",
    "y=wx+b \n",
    "\n",
    "+ w:가중치\n",
    "+ b : 바이어스\n",
    "+ 가중합 : 입력값(x)과 가중치(w)의 곱을 모두 더한 다음 거기에 바이어스(b)를 더한 값. \n",
    "+ 활성화 함수 : 가중합의 결과를 놓고 1 또는 0을 출력해서 다음으로 보낸다. "
   ]
  },
  {
   "cell_type": "markdown",
   "metadata": {},
   "source": [
    "## 6.2 퍼셉트론의 과제 \n",
    "\n",
    "![nn](6.2.jpg)\n",
    "\n",
    "여러개의 선을 아무리 그어보아도 하나의 직선으로 흰점과 검은점을 구분할 수 없다.\n",
    "\n",
    "![nn](6.3.jpg)"
   ]
  },
  {
   "cell_type": "markdown",
   "metadata": {},
   "source": [
    "## 6.3 XOR문제\n",
    " 퍼셉트론의 한계를 설명할 때 등장하는 XOR(exclusive OR) 문제입니다. \n",
    " \n",
    " + AND 게이트 : 1 1 \n",
    " + OR 게이트 : 둘 중 하나라도 1 \n",
    " + XOR 게이트 : 둘 중 하나만 1일때 1 \n",
    " \n",
    " ![nn](6.4.jpg)"
   ]
  },
  {
   "cell_type": "markdown",
   "metadata": {},
   "source": [
    "# 7 다층 퍼셉트론 \n",
    "인공지능 학자들을 인공 신경망을 개발하기 위해서 반드시 XOR 문제를 극복해야 했다. \n",
    "\n",
    " ![nn](6.5.jpg)\n",
    "\n",
    "종이를 휘어 줌.\n",
    "즉, 좌표 평면 자체에 변화를 주는 것이다.\n",
    "XOR 문제를 해결하기 위해서 우리는 두 개의 퍼셉트론을 한 번에 계산할 수 있어야 합니다.\n",
    "이를 가능하게 하려면 숨어있는 층, 즉 은닉층(hidden layer)을 만들면 됩니다. \n"
   ]
  },
  {
   "cell_type": "markdown",
   "metadata": {},
   "source": [
    "## 7.1 다층 퍼셉트론의 설계 \n",
    " \n",
    " 다층 퍼셉트론이 입력층과 출력층 사이에 숨어있는 은닉층을 만드는 것을 도식으로 나타내면 다음과 같다. \n",
    "  ![nn](6.6.jpg)\n",
    "  \n",
    "  가운데 숨어있는 은닉층으로 퍼셉트론이 각각 자신의 가중치(w)와 바이어스(b) 값을 보내고, 이 은닉층에서 모인 값이 한번 더 시그모이드 함수를 이용해 최종 값으로 결과를 보냅니다. \n",
    "은닉층에 모이는 중간 정거장을 노드(node)라고 하며, 여기서는 n1과 n2로 표현하였습니다."
   ]
  },
  {
   "cell_type": "markdown",
   "metadata": {},
   "source": [
    "## 7.2 XOR 문제의 해결 \n",
    "\n",
    "  먼저 변숫값을 정하고 이를 이용해 XOR 문제를 해결하는 과정을 알아보겠습니다. \n",
    "  \n",
    "  ![nn](6.7.jpg)\n",
    "  \n",
    "   ![nn](6.8.jpg)\n",
    "  \n",
    "  표에서 볼 수 있듯이 n1,n2,y를 구하는 공식에 차례로 대입하니 우리가 원하는 결과를 구할 수 있었습니다. \n",
    "  숨어있는 두 개의 노드를 둔 다음 다층 퍼셉트론을 통해 XOR 문제가 해결된 것입니다. \n",
    "  \n",
    "  n1 -> NAND  게이트 \n",
    "  n2 -> OR 게이트 \n",
    "  y -> 위의 두가지 값에 대해 AND 게이트를 수행한 값 "
   ]
  },
  {
   "cell_type": "markdown",
   "metadata": {},
   "source": [
    "## 7.3 코딩으로 XOR 문제 해결하기"
   ]
  },
  {
   "cell_type": "code",
   "execution_count": 1,
   "metadata": {},
   "outputs": [],
   "source": [
    "import numpy as np \n",
    "\n",
    "#가중치와 바이어스\n",
    "w11=np.array([-2,2])\n",
    "w12=np.array([2,2])\n",
    "w2=np.array([1,1])\n",
    "b1=3\n",
    "b2=-1\n",
    "b3=-1"
   ]
  },
  {
   "cell_type": "markdown",
   "metadata": {},
   "source": [
    "### 퍼셉트론 함수 "
   ]
  },
  {
   "cell_type": "code",
   "execution_count": 2,
   "metadata": {},
   "outputs": [],
   "source": [
    "#이제 퍼셉트론 함수를 만들어 줍니다. 0과 1 중에서 값을 출력하게 설정합니다. \n",
    "\n",
    "def MLP(x,w,b):\n",
    "    y=np.sum(w*x)+b\n",
    "    if y<=0:\n",
    "        return 0\n",
    "    else: \n",
    "        return 1 "
   ]
  },
  {
   "cell_type": "code",
   "execution_count": 5,
   "metadata": {},
   "outputs": [],
   "source": [
    "# 각 게이트의 정의에 따라 NAND 게이트, OR 게이트, AND 게이트 , XOR 게이트 함수를 만들어 줍니다.\n",
    "\n",
    "#NAND 게이트\n",
    "def NAND(x1,x2):\n",
    "    return MLP(np.array([x1,x2]),w11,b1)\n",
    "\n",
    "#OR 게이트 \n",
    "def OR(x1,x2):\n",
    "    return MLP(np.array([x1,x2]),w12,b2)\n",
    "\n",
    "#AND 게이트 \n",
    "def AND(x1,x2):\n",
    "    return MLP(np.array([x1,x2]),w2,b3)\n",
    "\n",
    "#XOR 게이트 \n",
    "def XOR(x1,x2):\n",
    "    return AND(NAND(x1,x2),OR(x1,x2))"
   ]
  },
  {
   "cell_type": "code",
   "execution_count": 6,
   "metadata": {},
   "outputs": [
    {
     "name": "stdout",
     "output_type": "stream",
     "text": [
      "입력 값: (0, 0)출력값: 0\n",
      "입력 값: (1, 0)출력값: 1\n",
      "입력 값: (0, 1)출력값: 1\n",
      "입력 값: (1, 1)출력값: 1\n"
     ]
    }
   ],
   "source": [
    "#이제 x1과 x2 값을 번갈아 대입해 가며 최종 값을 출력해 봅시다. \n",
    "\n",
    "if __name__=='__main__':\n",
    "    for x in [(0,0),(1,0),(0,1),(1,1)]:\n",
    "        y=XOR(x[0],x[1])\n",
    "        print(\"입력 값: \"+ str(x) +\"출력값: \" + str(y))"
   ]
  },
  {
   "cell_type": "code",
   "execution_count": null,
   "metadata": {},
   "outputs": [],
   "source": []
  },
  {
   "cell_type": "code",
   "execution_count": null,
   "metadata": {},
   "outputs": [],
   "source": []
  },
  {
   "cell_type": "code",
   "execution_count": null,
   "metadata": {},
   "outputs": [],
   "source": []
  },
  {
   "cell_type": "code",
   "execution_count": null,
   "metadata": {},
   "outputs": [],
   "source": []
  },
  {
   "cell_type": "code",
   "execution_count": null,
   "metadata": {},
   "outputs": [],
   "source": []
  },
  {
   "cell_type": "code",
   "execution_count": null,
   "metadata": {},
   "outputs": [],
   "source": []
  },
  {
   "cell_type": "code",
   "execution_count": null,
   "metadata": {},
   "outputs": [],
   "source": []
  },
  {
   "cell_type": "code",
   "execution_count": null,
   "metadata": {},
   "outputs": [],
   "source": []
  },
  {
   "cell_type": "markdown",
   "metadata": {},
   "source": []
  },
  {
   "cell_type": "markdown",
   "metadata": {},
   "source": []
  }
 ],
 "metadata": {
  "kernelspec": {
   "display_name": "Python 3",
   "language": "python",
   "name": "python3"
  },
  "language_info": {
   "codemirror_mode": {
    "name": "ipython",
    "version": 3
   },
   "file_extension": ".py",
   "mimetype": "text/x-python",
   "name": "python",
   "nbconvert_exporter": "python",
   "pygments_lexer": "ipython3",
   "version": "3.7.3"
  }
 },
 "nbformat": 4,
 "nbformat_minor": 2
}
