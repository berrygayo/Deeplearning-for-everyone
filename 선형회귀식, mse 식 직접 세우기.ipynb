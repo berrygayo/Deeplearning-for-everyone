{
 "cells": [
  {
   "cell_type": "markdown",
   "metadata": {},
   "source": [
    "# 선형 회귀 식 직접 만들기 \n",
    "\n",
    "### 공부시간에 따른 시험 성적 "
   ]
  },
  {
   "cell_type": "code",
   "execution_count": 9,
   "metadata": {},
   "outputs": [],
   "source": [
    "import numpy as np \n",
    "\n",
    "x=[2,4,6,8] #공부시간 \n",
    "y=[81,93,91,97] #성적 "
   ]
  },
  {
   "cell_type": "code",
   "execution_count": 10,
   "metadata": {},
   "outputs": [
    {
     "name": "stdout",
     "output_type": "stream",
     "text": [
      "x의 평균값: 5.0\n",
      "y의 평균값: 90.5\n"
     ]
    }
   ],
   "source": [
    "#x와 y의 평균값\n",
    "mx=np.mean(x)\n",
    "my=np.mean(y)\n",
    "print(\"x의 평균값:\", mx)\n",
    "print(\"y의 평균값:\", my)"
   ]
  },
  {
   "cell_type": "markdown",
   "metadata": {},
   "source": [
    "![nn](Linear_Regression.png)"
   ]
  },
  {
   "cell_type": "markdown",
   "metadata": {},
   "source": [
    "### 기울기"
   ]
  },
  {
   "cell_type": "code",
   "execution_count": 11,
   "metadata": {},
   "outputs": [
    {
     "name": "stdout",
     "output_type": "stream",
     "text": [
      "분모: 20.0\n",
      "분자: 46.0\n"
     ]
    }
   ],
   "source": [
    "# 기울기 공식의 분모 \n",
    "divisor=sum([(mx-i)**2 for i in x])\n",
    "\n",
    "#기울기 공식의 분자 \n",
    "def top(x,mx,y,my):\n",
    "    d=0\n",
    "    for i in range(len(x)):\n",
    "        d+=(x[i]-mx)*(y[i]-my)\n",
    "    return d \n",
    "\n",
    "dividend=top(x,mx,y,my)\n",
    "print(\"분모:\", divisor)\n",
    "print(\"분자:\",dividend)"
   ]
  },
  {
   "cell_type": "markdown",
   "metadata": {},
   "source": [
    "### x기울기와 y절편 구하기 "
   ]
  },
  {
   "cell_type": "code",
   "execution_count": 12,
   "metadata": {},
   "outputs": [
    {
     "name": "stdout",
     "output_type": "stream",
     "text": [
      "기울기 a= 2.3\n",
      "y절편 b= 79.0\n"
     ]
    }
   ],
   "source": [
    "a=dividend/divisor \n",
    "b=my-(mx*a)\n",
    "\n",
    "print(\"기울기 a=\",a)\n",
    "print(\"y절편 b=\",b)"
   ]
  },
  {
   "cell_type": "markdown",
   "metadata": {},
   "source": [
    "# MSE, RMSE 평균 제곱근 오차 \n",
    "### 오차를 평가하는 방법 \n",
    "![nn](MSE.jpg)"
   ]
  },
  {
   "cell_type": "code",
   "execution_count": 13,
   "metadata": {},
   "outputs": [],
   "source": [
    "# 기울기 a와 y절편을 3,76 이라하자 \n",
    "\n",
    "ab=[3,76]\n",
    "\n",
    "#x와 y 데이터 값 \n",
    "data=[[2,81],[4,93],[6,91],[8,97]]\n",
    "x=[i[0] for i in data]\n",
    "y=[i[1] for i in data]"
   ]
  },
  {
   "cell_type": "code",
   "execution_count": 15,
   "metadata": {},
   "outputs": [],
   "source": [
    "#y=ax+b에 a와 b값을 대입하여 결과를 출력하는 함수 \n",
    "def predict(x):\n",
    "    return ab[0]*x+ab[1]\n",
    "\n",
    "#RMSE함수 \n",
    "def rmse(p,a):\n",
    "         return np.sqrt(((p-a)**2).mean())\n",
    "\n",
    "#RMSE 함수를 각 y 값에 대입하여 최종 값을 구하는 함수 \n",
    "def rmse_val(predict_result,y):\n",
    "    return rmse(np.array(predict_result),np.array(y))\n"
   ]
  },
  {
   "cell_type": "code",
   "execution_count": 16,
   "metadata": {},
   "outputs": [
    {
     "name": "stdout",
     "output_type": "stream",
     "text": [
      "공부한 시간 =2, 실제 점수=81, 예측 점수=82\n",
      "공부한 시간 =4, 실제 점수=93, 예측 점수=88\n",
      "공부한 시간 =6, 실제 점수=91, 예측 점수=94\n",
      "공부한 시간 =8, 실제 점수=97, 예측 점수=100\n"
     ]
    }
   ],
   "source": [
    "# 예측 값이 들어갈 빈 리스트 \n",
    "predict_result=[]\n",
    "#모든 x값을 한 번씩 대입하여 \n",
    "for i in range(len(x)):\n",
    "    #predict_result 리스트를 완성한다.\n",
    "    predict_result.append(predict(x[i]))\n",
    "    print(\"공부한 시간 =%.f, 실제 점수=%.f, 예측 점수=%.f\" %(x[i],y[i],predict(x[i])))"
   ]
  },
  {
   "cell_type": "code",
   "execution_count": 17,
   "metadata": {},
   "outputs": [
    {
     "name": "stdout",
     "output_type": "stream",
     "text": [
      "rmse 최종값:3.3166247903554\n"
     ]
    }
   ],
   "source": [
    "#최종 RMSE출력 \n",
    "print(\"rmse 최종값:\"+str(rmse_val(predict_result,y)))"
   ]
  },
  {
   "cell_type": "markdown",
   "metadata": {},
   "source": [
    "우리가 처음 가정한 a=3, b=76은 오차가 약 3.3166이라는 것을 알게되었다. 이제 남은 것은 오차를 줄이면서 새로운 선을 긋는 것이다. \n",
    "다음 장에서는 오차를 줄이는 방법인 '경사 하강법에 대해 알아보겠다.'"
   ]
  }
 ],
 "metadata": {
  "kernelspec": {
   "display_name": "Python 3",
   "language": "python",
   "name": "python3"
  },
  "language_info": {
   "codemirror_mode": {
    "name": "ipython",
    "version": 3
   },
   "file_extension": ".py",
   "mimetype": "text/x-python",
   "name": "python",
   "nbconvert_exporter": "python",
   "pygments_lexer": "ipython3",
   "version": "3.7.3"
  }
 },
 "nbformat": 4,
 "nbformat_minor": 2
}
