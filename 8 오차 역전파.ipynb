{
 "cells": [
  {
   "cell_type": "markdown",
   "metadata": {},
   "source": [
    "## 오차 역전파의 개념\n",
    "\n",
    "앞서 가중치(w)와 바이어스(b)가 무엇인지 알아보았다. 그렇다면 이 가중치와 바이어스를 실제 프로젝트에서는 어떻게 구할 수 있을까? \n",
    "+ 경사 하강법 \n",
    "\n",
    "앞서 우리가 배운 경사 하강법은 입력과 출력이 하나일 때, 즉 '단일 퍼셉트론'일 경우였다.\n",
    "다층 퍼셉트론에 또한 결괏값의 오차를 구해 이를 토대로 하나 앞선 가중치를 차례로 거슬러 올라가며 조정해 나간다.\n",
    "\n",
    "![nn](8.1.jpg)\n",
    "\n",
    "그러다 보니 최적화의 계산 방향이 출력층에서 시작해 앞으로 진행된다.\n",
    "그래서 다층 퍼셉트론에서의 최적화 과정을 오차 역전파(back propagation)라고 부릅니다. \n",
    "\n",
    "\n",
    "> 오차 역전파의 구동방식\n",
    "\n",
    "1. 임의의 초기 가중치(W)를 준 뒤 결과(y_out)를 계산한다.\n",
    "2. 계산 결과와 우리가 원하는 값 사이의 오차를 구한다.\n",
    "3. 경사 하강법을 이용해 바로 앞 가중치를 오차가 작아지는 방향으로 업데이트한다.\n",
    "4. 위 과정을 더이상 오차가 줄어들지 않을 때까지 반복한다."
   ]
  },
  {
   "cell_type": "markdown",
   "metadata": {},
   "source": [
    "## 심화학습 2: 파이썬 코드로 확인하는 신경망 \n",
    "XOR 문제를 사용해 심화학습 1에서 배운 오차 역전파를 파이썬 코드로 확인해 보겠습니다. \n",
    "\n",
    "먼저 실제 값이 될 XOR 진리표는 다음과 같습니다.\n",
    "![nn](8.b.1.jpg)"
   ]
  },
  {
   "cell_type": "code",
   "execution_count": null,
   "metadata": {},
   "outputs": [],
   "source": []
  }
 ],
 "metadata": {
  "kernelspec": {
   "display_name": "Python 3",
   "language": "python",
   "name": "python3"
  },
  "language_info": {
   "codemirror_mode": {
    "name": "ipython",
    "version": 3
   },
   "file_extension": ".py",
   "mimetype": "text/x-python",
   "name": "python",
   "nbconvert_exporter": "python",
   "pygments_lexer": "ipython3",
   "version": "3.7.3"
  }
 },
 "nbformat": 4,
 "nbformat_minor": 2
}
